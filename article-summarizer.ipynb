{
 "cells": [
  {
   "cell_type": "markdown",
   "metadata": {},
   "source": [
    "# Web Mining and Applied NLP (44-620)\n",
    "\n",
    "## Final Project: Article Summarizer\n",
    "\n",
    "### Student Name: Trent Rueckert\n",
    "\n",
    "### GitHub Repo: https://github.com/trentrueckert/article-summarizer-true\n",
    "\n",
    "Perform the tasks described in the Markdown cells below.  When you have completed the assignment make sure your code cells have all been run (and have output beneath them) and ensure you have committed and pushed ALL of your changes to your assignment repository.\n",
    "\n",
    "You should bring in code from previous assignments to help you answer the questions below.\n",
    "\n",
    "Every question that requires you to write code will have a code cell underneath it; you may either write your entire solution in that cell or write it in a python file (`.py`), then import and run the appropriate code to answer the question."
   ]
  },
  {
   "cell_type": "code",
   "execution_count": 10,
   "metadata": {},
   "outputs": [],
   "source": [
    "# Import dependencies\n",
    "\n",
    "import spacy\n",
    "from collections import Counter\n",
    "from bs4 import BeautifulSoup\n",
    "import requests\n",
    "import pickle\n",
    "import matplotlib.pyplot as plt\n",
    "from textblob import TextBlob"
   ]
  },
  {
   "cell_type": "markdown",
   "metadata": {},
   "source": [
    "## Question 1. \n",
    "\n",
    "Find on the internet an article or blog post about a topic that interests you and you are able to get the text for using the technologies we have applied in the course.  Get the html for the article and store it in a file (which you must submit with your project)"
   ]
  },
  {
   "cell_type": "code",
   "execution_count": 2,
   "metadata": {},
   "outputs": [
    {
     "name": "stdout",
     "output_type": "stream",
     "text": [
      "HTML content successfully saved to article_html.pkl\n",
      "\n",
      "Loaded HTML content (first 100 characters):\n",
      "<!DOCTYPE html>\n",
      "<html lang=\"en-US\" class=\"no-js\">\n",
      "<head>\n",
      "  \n",
      "  <meta name=\"viewport\" content=\"width=d\n"
     ]
    }
   ],
   "source": [
    "# URL of the article\n",
    "url = 'https://theconversation.com/mlb-home-run-counts-are-rising-and-global-warming-is-playing-a-role-203226'\n",
    "\n",
    "# Fetch the HTML content\n",
    "response = requests.get(url)\n",
    "\n",
    "# Check if the request was successful\n",
    "if response.status_code == 200:\n",
    "    # Get the HTML content from the response\n",
    "    html_content = response.text\n",
    "    \n",
    "    # Create the filename for saving the HTML content\n",
    "    filename = 'article_html.pkl'\n",
    "    \n",
    "    # Save the HTML content to a .pkl file using pickle\n",
    "    with open(filename, 'wb') as f:\n",
    "        pickle.dump(html_content, f)\n",
    "\n",
    "    print(f\"HTML content successfully saved to {filename}\")\n",
    "else:\n",
    "    print(f\"Failed to retrieve the article. HTTP Status code: {response.status_code}\")\n",
    "\n",
    "# Load the HTML content from the .pkl file\n",
    "with open('article_html.pkl', 'rb') as f:\n",
    "    loaded_html = pickle.load(f)\n",
    "\n",
    "# Print the first 100 characters of the HTML content to verify it's loaded\n",
    "print(\"\\nLoaded HTML content (first 100 characters):\")\n",
    "print(loaded_html[:100])"
   ]
  },
  {
   "cell_type": "markdown",
   "metadata": {},
   "source": [
    "2. Read in your article's html source from the file you created in question 1 and do sentiment analysis on the article/post's text (use `.get_text()`).  Print the polarity score with an appropriate label.  Additionally print the number of sentences in the original article (with an appropriate label)"
   ]
  },
  {
   "cell_type": "code",
   "execution_count": 12,
   "metadata": {},
   "outputs": [
    {
     "name": "stdout",
     "output_type": "stream",
     "text": [
      "\n",
      "Home runs are exhilarating – those lofting moments when everyone looks skyward, baseball players and fans alike, anxiously awaiting the outcome: run or out, win or loss, elation or despair.\n",
      "Over the past several Major League Baseball seasons, home run numbers have climbed dramatically, including Aaron Judge’s record-breaking 62 homers for the New York Yankees in 2022.\n",
      "Baseball analysts have pointed to many different factors for this surge, from changes in baseball construction to advances in ga\n",
      "Polarity Score: 0.07480\n",
      "Number of sentences: 36\n"
     ]
    }
   ],
   "source": [
    "# Parse the HTML content using BeautifulSoup\n",
    "soup = BeautifulSoup(loaded_html, 'html.parser')\n",
    "\n",
    "# Try to find the article body section\n",
    "article_section = soup.find('div', {'class': 'grid-ten large-grid-nine grid-last content-body content entry-content instapaper_body inline-promos'})\n",
    "\n",
    "# If the section is found, extract the text\n",
    "if article_section:\n",
    "    article_text = article_section.get_text()\n",
    "    print(article_text[:500])  # Print the first 500 characters of the article text\n",
    "else:\n",
    "    print(\"Article section not found.\")\n",
    "\n",
    "# Load the small English language model for spaCy\n",
    "nlp = spacy.load(\"en_core_web_sm\")\n",
    "\n",
    "# Process the text with spaCy to split into sentences\n",
    "doc = nlp(article_text)\n",
    "\n",
    "# Calculate the sentiment polarity score of the entire article\n",
    "blob = TextBlob(article_text)\n",
    "polarity_score = blob.sentiment.polarity\n",
    "\n",
    "# Print the polarity score\n",
    "print(f\"Polarity Score: {polarity_score:.5f}\")\n",
    "\n",
    "# Count the number of sentences in the article\n",
    "num_sentences = len(list(doc.sents))\n",
    "\n",
    "# Print the number of sentences\n",
    "print(f\"Number of sentences: {num_sentences}\")"
   ]
  },
  {
   "cell_type": "markdown",
   "metadata": {},
   "source": [
    "3. Load the article text into a trained `spaCy` pipeline, and determine the 5 most frequent tokens (converted to lower case).  Print the common tokens with an appropriate label.  Additionally, print the tokens their frequencies (with appropriate labels)"
   ]
  },
  {
   "cell_type": "code",
   "execution_count": 17,
   "metadata": {},
   "outputs": [
    {
     "name": "stdout",
     "output_type": "stream",
     "text": [
      "The 5 most frequent tokens and their frequencies are:\n",
      "Token: 'home' - Frequency: 21\n",
      "Token: 'runs' - Frequency: 17\n",
      "Token: 'game' - Frequency: 11\n",
      "Token: 'baseball' - Frequency: 10\n",
      "Token: 'temperatures' - Frequency: 7\n"
     ]
    }
   ],
   "source": [
    "# Initialize the spaCy pipeline\n",
    "nlp = spacy.load(\"en_core_web_sm\")\n",
    "\n",
    "# Try to find the article body section\n",
    "article_section = soup.find('div', {'class': 'grid-ten large-grid-nine grid-last content-body content entry-content instapaper_body inline-promos'})\n",
    "\n",
    "# Extract the article text \n",
    "article_text = article_section.get_text()\n",
    "\n",
    "# Process the text with spaCy\n",
    "doc = nlp(article_text)\n",
    "\n",
    "# Filter tokens: remove punctuation, stopwords, and whitespace\n",
    "filtered_tokens = [token.text.lower() for token in doc if not token.is_punct and not token.is_stop and not token.is_space]\n",
    "\n",
    "# Count the token frequencies\n",
    "token_counts = Counter(filtered_tokens)\n",
    "\n",
    "# Get the 5 most common tokens\n",
    "most_common_tokens = token_counts.most_common(5)\n",
    "\n",
    "# Print the 5 most common tokens with their frequencies\n",
    "print(\"The 5 most frequent tokens and their frequencies are:\")\n",
    "for token, freq in most_common_tokens:\n",
    "    print(f\"Token: '{token}' - Frequency: {freq}\")"
   ]
  },
  {
   "cell_type": "markdown",
   "metadata": {},
   "source": [
    "4. Load the article text into a trained `spaCy` pipeline, and determine the 5 most frequent lemmas (converted to lower case).  Print the common lemmas with an appropriate label.  Additionally, print the lemmas with their frequencies (with appropriate labels)."
   ]
  },
  {
   "cell_type": "code",
   "execution_count": 18,
   "metadata": {},
   "outputs": [
    {
     "name": "stdout",
     "output_type": "stream",
     "text": [
      "The 5 most frequent lemmas and their frequencies are:\n",
      "Lemma: 'run' - Frequency: 23\n",
      "Lemma: 'home' - Frequency: 21\n",
      "Lemma: 'game' - Frequency: 14\n",
      "Lemma: 'temperature' - Frequency: 14\n",
      "Lemma: 'baseball' - Frequency: 10\n"
     ]
    }
   ],
   "source": [
    "# Initialize the spaCy pipeline\n",
    "nlp = spacy.load(\"en_core_web_sm\")\n",
    "\n",
    "# Try to find the article body section\n",
    "article_section = soup.find('div', {'class': 'grid-ten large-grid-nine grid-last content-body content entry-content instapaper_body inline-promos'})\n",
    "\n",
    "# Extract the article text\n",
    "article_text = article_section.get_text()\n",
    "\n",
    "# Process the text with spaCy\n",
    "doc = nlp(article_text)\n",
    "\n",
    "# Filter tokens: remove punctuation, stopwords, and whitespace\n",
    "filtered_lemmas = [token.lemma_.lower() for token in doc if not token.is_punct and not token.is_stop and not token.is_space]\n",
    "\n",
    "# Count lemma frequencies\n",
    "lemma_counts = Counter(filtered_lemmas)\n",
    "\n",
    "# Get the 5 most common lemmas\n",
    "most_common_lemmas = lemma_counts.most_common(5)\n",
    "\n",
    "# Print the 5 most common lemmas with their frequencies\n",
    "print(\"The 5 most frequent lemmas and their frequencies are:\")\n",
    "for lemma, freq in most_common_lemmas:\n",
    "    print(f\"Lemma: '{lemma}' - Frequency: {freq}\")"
   ]
  },
  {
   "cell_type": "markdown",
   "metadata": {},
   "source": [
    "5. Make a list containing the scores (using tokens) of every sentence in the article, and plot a histogram with appropriate titles and axis labels of the scores. From your histogram, what seems to be the most common range of scores (put the answer in a comment after your code)?"
   ]
  },
  {
   "cell_type": "code",
   "execution_count": null,
   "metadata": {},
   "outputs": [],
   "source": []
  },
  {
   "cell_type": "markdown",
   "metadata": {},
   "source": [
    "6. Make a list containing the scores (using lemmas) of every sentence in the article, and plot a histogram with appropriate titles and axis labels of the scores.  From your histogram, what seems to be the most common range of scores (put the answer in a comment after your code)?"
   ]
  },
  {
   "cell_type": "code",
   "execution_count": null,
   "metadata": {},
   "outputs": [],
   "source": []
  },
  {
   "cell_type": "markdown",
   "metadata": {},
   "source": [
    "7. Using the histograms from questions 5 and 6, decide a \"cutoff\" score for tokens and lemmas such that fewer than half the sentences would have a score greater than the cutoff score.  Record the scores in this Markdown cell\n",
    "\n",
    "* Cutoff Score (tokens): \n",
    "* Cutoff Score (lemmas):\n",
    "\n",
    "Feel free to change these scores as you generate your summaries.  Ideally, we're shooting for at least 6 sentences for our summary, but don't want more than 10 (these numbers are rough estimates; they depend on the length of your article)."
   ]
  },
  {
   "cell_type": "markdown",
   "metadata": {},
   "source": [
    "8. Create a summary of the article by going through every sentence in the article and adding it to an (initially) empty list if its score (based on tokens) is greater than the cutoff score you identified in question 8.  If your loop variable is named `sent`, you may find it easier to add `sent.text.strip()` to your list of sentences.  Print the summary (I would cleanly generate the summary text by `join`ing the strings in your list together with a space (`' '.join(sentence_list)`)."
   ]
  },
  {
   "cell_type": "code",
   "execution_count": null,
   "metadata": {},
   "outputs": [],
   "source": []
  },
  {
   "cell_type": "markdown",
   "metadata": {},
   "source": [
    "9. Print the polarity score of your summary you generated with the token scores (with an appropriate label). Additionally, print the number of sentences in the summarized article."
   ]
  },
  {
   "cell_type": "code",
   "execution_count": null,
   "metadata": {},
   "outputs": [],
   "source": []
  },
  {
   "cell_type": "markdown",
   "metadata": {},
   "source": [
    "10. Create a summary of the article by going through every sentence in the article and adding it to an (initially) empty list if its score (based on lemmas) is greater than the cutoff score you identified in question 8.  If your loop variable is named `sent`, you may find it easier to add `sent.text.strip()` to your list of sentences.  Print the summary (I would cleanly generate the summary text by `join`ing the strings in your list together with a space (`' '.join(sentence_list)`)."
   ]
  },
  {
   "cell_type": "code",
   "execution_count": null,
   "metadata": {},
   "outputs": [],
   "source": []
  },
  {
   "cell_type": "markdown",
   "metadata": {},
   "source": [
    "11. Print the polarity score of your summary you generated with the lemma scores (with an appropriate label). Additionally, print the number of sentences in the summarized article."
   ]
  },
  {
   "cell_type": "code",
   "execution_count": null,
   "metadata": {},
   "outputs": [],
   "source": []
  },
  {
   "cell_type": "markdown",
   "metadata": {},
   "source": [
    "12.  Compare your polarity scores of your summaries to the polarity scores of the initial article.  Is there a difference?  Why do you think that may or may not be?.  Answer in this Markdown cell.  "
   ]
  },
  {
   "cell_type": "markdown",
   "metadata": {},
   "source": [
    "13. Based on your reading of the original article, which summary do you think is better (if there's a difference).  Why do you think this might be?"
   ]
  }
 ],
 "metadata": {
  "kernelspec": {
   "display_name": ".venv",
   "language": "python",
   "name": "python3"
  },
  "language_info": {
   "codemirror_mode": {
    "name": "ipython",
    "version": 3
   },
   "file_extension": ".py",
   "mimetype": "text/x-python",
   "name": "python",
   "nbconvert_exporter": "python",
   "pygments_lexer": "ipython3",
   "version": "3.12.5"
  }
 },
 "nbformat": 4,
 "nbformat_minor": 4
}
