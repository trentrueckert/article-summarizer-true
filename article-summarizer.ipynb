{
 "cells": [
  {
   "cell_type": "markdown",
   "metadata": {},
   "source": [
    "# Web Mining and Applied NLP (44-620)\n",
    "\n",
    "## Final Project: Article Summarizer\n",
    "\n",
    "### Student Name: Trent Rueckert\n",
    "\n",
    "### GitHub Repo: https://github.com/trentrueckert/article-summarizer-true\n",
    "\n",
    "Perform the tasks described in the Markdown cells below.  When you have completed the assignment make sure your code cells have all been run (and have output beneath them) and ensure you have committed and pushed ALL of your changes to your assignment repository.\n",
    "\n",
    "You should bring in code from previous assignments to help you answer the questions below.\n",
    "\n",
    "Every question that requires you to write code will have a code cell underneath it; you may either write your entire solution in that cell or write it in a python file (`.py`), then import and run the appropriate code to answer the question."
   ]
  },
  {
   "cell_type": "code",
   "execution_count": 10,
   "metadata": {},
   "outputs": [],
   "source": [
    "# Import dependencies\n",
    "\n",
    "import spacy\n",
    "from collections import Counter\n",
    "from bs4 import BeautifulSoup\n",
    "import requests\n",
    "import pickle\n",
    "import matplotlib.pyplot as plt\n",
    "from textblob import TextBlob"
   ]
  },
  {
   "cell_type": "markdown",
   "metadata": {},
   "source": [
    "## Question 1. \n",
    "\n",
    "Find on the internet an article or blog post about a topic that interests you and you are able to get the text for using the technologies we have applied in the course.  Get the html for the article and store it in a file (which you must submit with your project)"
   ]
  },
  {
   "cell_type": "code",
   "execution_count": 2,
   "metadata": {},
   "outputs": [
    {
     "name": "stdout",
     "output_type": "stream",
     "text": [
      "HTML content successfully saved to article_html.pkl\n",
      "\n",
      "Loaded HTML content (first 100 characters):\n",
      "<!DOCTYPE html>\n",
      "<html lang=\"en-US\" class=\"no-js\">\n",
      "<head>\n",
      "  \n",
      "  <meta name=\"viewport\" content=\"width=d\n"
     ]
    }
   ],
   "source": [
    "# URL of the article\n",
    "url = 'https://theconversation.com/mlb-home-run-counts-are-rising-and-global-warming-is-playing-a-role-203226'\n",
    "\n",
    "# Fetch the HTML content\n",
    "response = requests.get(url)\n",
    "\n",
    "# Check if the request was successful\n",
    "if response.status_code == 200:\n",
    "    # Get the HTML content from the response\n",
    "    html_content = response.text\n",
    "    \n",
    "    # Create the filename for saving the HTML content\n",
    "    filename = 'article_html.pkl'\n",
    "    \n",
    "    # Save the HTML content to a .pkl file using pickle\n",
    "    with open(filename, 'wb') as f:\n",
    "        pickle.dump(html_content, f)\n",
    "\n",
    "    print(f\"HTML content successfully saved to {filename}\")\n",
    "else:\n",
    "    print(f\"Failed to retrieve the article. HTTP Status code: {response.status_code}\")\n",
    "\n",
    "# Load the HTML content from the .pkl file\n",
    "with open('article_html.pkl', 'rb') as f:\n",
    "    loaded_html = pickle.load(f)\n",
    "\n",
    "# Print the first 100 characters of the HTML content to verify it's loaded\n",
    "print(\"\\nLoaded HTML content (first 100 characters):\")\n",
    "print(loaded_html[:100])"
   ]
  },
  {
   "cell_type": "markdown",
   "metadata": {},
   "source": [
    "## Question 2. \n",
    "\n",
    "Read in your article's html source from the file you created in question 1 and do sentiment analysis on the article/post's text (use `.get_text()`).  Print the polarity score with an appropriate label.  Additionally print the number of sentences in the original article (with an appropriate label)"
   ]
  },
  {
   "cell_type": "code",
   "execution_count": 12,
   "metadata": {},
   "outputs": [
    {
     "name": "stdout",
     "output_type": "stream",
     "text": [
      "\n",
      "Home runs are exhilarating – those lofting moments when everyone looks skyward, baseball players and fans alike, anxiously awaiting the outcome: run or out, win or loss, elation or despair.\n",
      "Over the past several Major League Baseball seasons, home run numbers have climbed dramatically, including Aaron Judge’s record-breaking 62 homers for the New York Yankees in 2022.\n",
      "Baseball analysts have pointed to many different factors for this surge, from changes in baseball construction to advances in ga\n",
      "Polarity Score: 0.07480\n",
      "Number of sentences: 36\n"
     ]
    }
   ],
   "source": [
    "# Parse the HTML content using BeautifulSoup\n",
    "soup = BeautifulSoup(loaded_html, 'html.parser')\n",
    "\n",
    "# Try to find the article body section\n",
    "article_section = soup.find('div', {'class': 'grid-ten large-grid-nine grid-last content-body content entry-content instapaper_body inline-promos'})\n",
    "\n",
    "# If the section is found, extract the text\n",
    "if article_section:\n",
    "    article_text = article_section.get_text()\n",
    "    print(article_text[:500])  # Print the first 500 characters of the article text\n",
    "else:\n",
    "    print(\"Article section not found.\")\n",
    "\n",
    "# Load the small English language model for spaCy\n",
    "nlp = spacy.load(\"en_core_web_sm\")\n",
    "\n",
    "# Process the text with spaCy to split into sentences\n",
    "doc = nlp(article_text)\n",
    "\n",
    "# Calculate the sentiment polarity score of the entire article\n",
    "blob = TextBlob(article_text)\n",
    "polarity_score = blob.sentiment.polarity\n",
    "\n",
    "# Print the polarity score\n",
    "print(f\"Polarity Score: {polarity_score:.5f}\")\n",
    "\n",
    "# Count the number of sentences in the article\n",
    "num_sentences = len(list(doc.sents))\n",
    "\n",
    "# Print the number of sentences\n",
    "print(f\"Number of sentences: {num_sentences}\")"
   ]
  },
  {
   "cell_type": "markdown",
   "metadata": {},
   "source": [
    "## Question 3. \n",
    "\n",
    "Load the article text into a trained `spaCy` pipeline, and determine the 5 most frequent tokens (converted to lower case).  Print the common tokens with an appropriate label.  Additionally, print the tokens their frequencies (with appropriate labels)"
   ]
  },
  {
   "cell_type": "code",
   "execution_count": 17,
   "metadata": {},
   "outputs": [
    {
     "name": "stdout",
     "output_type": "stream",
     "text": [
      "The 5 most frequent tokens and their frequencies are:\n",
      "Token: 'home' - Frequency: 21\n",
      "Token: 'runs' - Frequency: 17\n",
      "Token: 'game' - Frequency: 11\n",
      "Token: 'baseball' - Frequency: 10\n",
      "Token: 'temperatures' - Frequency: 7\n"
     ]
    }
   ],
   "source": [
    "# Initialize the spaCy pipeline\n",
    "nlp = spacy.load(\"en_core_web_sm\")\n",
    "\n",
    "# Try to find the article body section\n",
    "article_section = soup.find('div', {'class': 'grid-ten large-grid-nine grid-last content-body content entry-content instapaper_body inline-promos'})\n",
    "\n",
    "# Extract the article text \n",
    "article_text = article_section.get_text()\n",
    "\n",
    "# Process the text with spaCy\n",
    "doc = nlp(article_text)\n",
    "\n",
    "# Filter tokens: remove punctuation, stopwords, and whitespace\n",
    "filtered_tokens = [token.text.lower() for token in doc if not token.is_punct and not token.is_stop and not token.is_space]\n",
    "\n",
    "# Count the token frequencies\n",
    "token_counts = Counter(filtered_tokens)\n",
    "\n",
    "# Get the 5 most common tokens\n",
    "most_common_tokens = token_counts.most_common(5)\n",
    "\n",
    "# Print the 5 most common tokens with their frequencies\n",
    "print(\"The 5 most frequent tokens and their frequencies are:\")\n",
    "for token, freq in most_common_tokens:\n",
    "    print(f\"Token: '{token}' - Frequency: {freq}\")"
   ]
  },
  {
   "cell_type": "markdown",
   "metadata": {},
   "source": [
    "## Question 4. \n",
    "\n",
    "Load the article text into a trained `spaCy` pipeline, and determine the 5 most frequent lemmas (converted to lower case).  Print the common lemmas with an appropriate label.  Additionally, print the lemmas with their frequencies (with appropriate labels)."
   ]
  },
  {
   "cell_type": "code",
   "execution_count": 18,
   "metadata": {},
   "outputs": [
    {
     "name": "stdout",
     "output_type": "stream",
     "text": [
      "The 5 most frequent lemmas and their frequencies are:\n",
      "Lemma: 'run' - Frequency: 23\n",
      "Lemma: 'home' - Frequency: 21\n",
      "Lemma: 'game' - Frequency: 14\n",
      "Lemma: 'temperature' - Frequency: 14\n",
      "Lemma: 'baseball' - Frequency: 10\n"
     ]
    }
   ],
   "source": [
    "# Initialize the spaCy pipeline\n",
    "nlp = spacy.load(\"en_core_web_sm\")\n",
    "\n",
    "# Try to find the article body section\n",
    "article_section = soup.find('div', {'class': 'grid-ten large-grid-nine grid-last content-body content entry-content instapaper_body inline-promos'})\n",
    "\n",
    "# Extract the article text\n",
    "article_text = article_section.get_text()\n",
    "\n",
    "# Process the text with spaCy\n",
    "doc = nlp(article_text)\n",
    "\n",
    "# Filter tokens: remove punctuation, stopwords, and whitespace\n",
    "filtered_lemmas = [token.lemma_.lower() for token in doc if not token.is_punct and not token.is_stop and not token.is_space]\n",
    "\n",
    "# Count lemma frequencies\n",
    "lemma_counts = Counter(filtered_lemmas)\n",
    "\n",
    "# Get the 5 most common lemmas\n",
    "most_common_lemmas = lemma_counts.most_common(5)\n",
    "\n",
    "# Print the 5 most common lemmas with their frequencies\n",
    "print(\"The 5 most frequent lemmas and their frequencies are:\")\n",
    "for lemma, freq in most_common_lemmas:\n",
    "    print(f\"Lemma: '{lemma}' - Frequency: {freq}\")"
   ]
  },
  {
   "cell_type": "markdown",
   "metadata": {},
   "source": [
    "## Question 5. \n",
    "\n",
    "Make a list containing the scores (using tokens) of every sentence in the article, and plot a histogram with appropriate titles and axis labels of the scores. From your histogram, what seems to be the most common range of scores (put the answer in a comment after your code)?"
   ]
  },
  {
   "cell_type": "code",
   "execution_count": null,
   "metadata": {},
   "outputs": [
    {
     "data": {
      "image/png": "[encoded data removed]",
      "text/plain": [
       "<Figure size 1000x600 with 1 Axes>"
      ]
     },
     "metadata": {},
     "output_type": "display_data"
    },
    {
     "name": "stdout",
     "output_type": "stream",
     "text": [
      "Token scores for each sentence: [0.10344827586206896, 0.06896551724137931, 0.14285714285714285, 0.06666666666666667, 0.06666666666666667, 0.0, 0.0, 0.0, 0.10526315789473684, 0.08108108108108109, 0.05263157894736842, 0.14634146341463414, 0.10204081632653061, 0.11764705882352941, 0.15384615384615385, 0.07142857142857142, 0.1111111111111111, 0.12121212121212122, 0.0, 0.05263157894736842, 0.0, 0.0, 0.13043478260869565, 0.16666666666666666, 0.08333333333333333, 0.09523809523809523, 0.058823529411764705, 0.14285714285714285, 0.07407407407407407, 0.0, 0.0, 0.0, 0.02564102564102564, 0.05555555555555555, 0.10526315789473684, 0.07407407407407407]\n"
     ]
    }
   ],
   "source": [
    "# Initialize the spaCy pipeline\n",
    "nlp = spacy.load(\"en_core_web_sm\")\n",
    "\n",
    "# Parse the HTML content\n",
    "soup = BeautifulSoup(loaded_html, 'html.parser')\n",
    "\n",
    "# Try to find the article body section\n",
    "article_section = soup.find('div', {'class': 'grid-ten large-grid-nine grid-last content-body content entry-content instapaper_body inline-promos'})\n",
    "\n",
    "# Extract the article text\n",
    "article_text = article_section.get_text()\n",
    "\n",
    "def score_sentence_by_token(sentence, interesting_tokens):\n",
    "    # Process the sentence with spaCy to get a doc object\n",
    "    doc = nlp(sentence)\n",
    "\n",
    "    # Count the number of interesting tokens\n",
    "    token_count = sum(1 for token in doc if token.text.lower() in interesting_tokens)\n",
    "\n",
    "    # Calculate the score: interesting tokens divided by total tokens in sentence\n",
    "    total_words = len([token for token in doc if not token.is_space and not token.is_punct])\n",
    "\n",
    "    if total_words> 0:\n",
    "        return token_count / total_words\n",
    "    else:\n",
    "        return 0\n",
    "    \n",
    "# Split the article text into sentences\n",
    "doc = nlp(article_text)\n",
    "sentences = list(doc.sents)\n",
    "\n",
    "# Interesting tokens (from Q3)\n",
    "interesting_tokens = [\"home\", \"runs\", \"game\", \"baseball\", \"temperatures\"]\n",
    "\n",
    "# List to store scores of all sentences\n",
    "token_scores = []\n",
    "\n",
    "# Iterate over each sentence in the document and calculate token scores\n",
    "for sentence in doc.sents:\n",
    "    score = score_sentence_by_token(sentence.text, interesting_tokens)\n",
    "    token_scores.append(score)\n",
    "\n",
    "# Histogram of sentence scores\n",
    "plt.figure(figsize=(10, 6))\n",
    "plt.hist(token_scores, bins=20, edgecolor='black')\n",
    "plt.title('Histogram of Sentence Scores (Using Tokens) from Home Runs Article')\n",
    "plt.xlabel('Score')\n",
    "plt.ylabel('Frequency')\n",
    "plt.grid(True)\n",
    "plt.show()\n",
    "\n",
    "print(f\"Token scores for each sentence: {token_scores}\")\n",
    "\n",
    "# The most common range of scores seems to be from 0.05 to 0.11"
   ]
  },
  {
   "cell_type": "markdown",
   "metadata": {},
   "source": [
    "6. Make a list containing the scores (using lemmas) of every sentence in the article, and plot a histogram with appropriate titles and axis labels of the scores.  From your histogram, what seems to be the most common range of scores (put the answer in a comment after your code)?"
   ]
  },
  {
   "cell_type": "code",
   "execution_count": null,
   "metadata": {},
   "outputs": [
    {
     "data": {
      "image/png": "[encoded data removed]",
      "text/plain": [
       "<Figure size 1000x600 with 1 Axes>"
      ]
     },
     "metadata": {},
     "output_type": "display_data"
    }
   ],
   "source": [
    "# Initialize the spaCy pipeline\n",
    "nlp = spacy.load(\"en_core_web_sm\")\n",
    "\n",
    "# Parse the HTML content\n",
    "soup = BeautifulSoup(loaded_html, 'html.parser')\n",
    "\n",
    "# Try to find the article body section\n",
    "article_section = soup.find('div', {'class': 'grid-ten large-grid-nine grid-last content-body content entry-content instapaper_body inline-promos'})\n",
    "\n",
    "# Extract the article text\n",
    "article_text = article_section.get_text()\n",
    "\n",
    "def score_sentence_by_lemma(sentence, interesting_lemmas):\n",
    "    # Process the sentence with spaCy\n",
    "    doc = nlp(sentence)\n",
    "\n",
    "    # Count the number of interesting tokens\n",
    "    lemma_count = sum(1 for token in doc if token.lemma_.lower() in interesting_lemmas)\n",
    "\n",
    "    # Calculate the score: interesting lemmas divided by total tokens in sentence\n",
    "    total_words = len([token for token in doc if not token.is_space and not token.is_punct])\n",
    "    \n",
    "    if total_words > 0: \n",
    "        return lemma_count / total_words\n",
    "    else:\n",
    "        return 0\n",
    "    \n",
    "# Load the article text\n",
    "nlp = spacy.load(\"en_core_web_sm\")\n",
    "doc = nlp(article_text)\n",
    "\n",
    "# Interesting lemmas (from Q4)\n",
    "interesting_lemmas = [\"run\", \"home\", \"game\", \"temperature\", \"baseball\"]\n",
    "\n",
    "# List to store lemma scores of each sentence\n",
    "lemma_scores = []\n",
    "\n",
    "# Iterate over each sentence in the document and calculate lemma scores\n",
    "for sentence in doc.sents:\n",
    "    score = score_sentence_by_lemma(sentence.text, interesting_lemmas)\n",
    "    lemma_scores.append(score)\n",
    "\n",
    "# Plot the histogram of lemma scores\n",
    "plt.figure(figsize=(10, 6))\n",
    "plt.hist(lemma_scores, bins=20, edgecolor='black', color='green')\n",
    "plt.title(\"Distribution of Lemma Scores per Sentence\")\n",
    "plt.xlabel(\"Lemma Score\")\n",
    "plt.ylabel(\"Frequency\")\n",
    "plt.grid(True)\n",
    "plt.show()\n",
    "\n",
    "# The most common range of scores seems to be from 0.045 to 0.122"
   ]
  },
  {
   "cell_type": "markdown",
   "metadata": {},
   "source": [
    "## Question 7. \n",
    "\n",
    "Using the histograms from questions 5 and 6, decide a \"cutoff\" score for tokens and lemmas such that fewer than half the sentences would have a score greater than the cutoff score.  Record the scores in this Markdown cell\n",
    "\n",
    "* Cutoff Score (tokens): 0.073\n",
    "* Cutoff Score (lemmas): 0.099\n",
    "\n",
    "Feel free to change these scores as you generate your summaries.  Ideally, we're shooting for at least 6 sentences for our summary, but don't want more than 10 (these numbers are rough estimates; they depend on the length of your article)."
   ]
  },
  {
   "cell_type": "code",
   "execution_count": 24,
   "metadata": {},
   "outputs": [
    {
     "name": "stdout",
     "output_type": "stream",
     "text": [
      "Cutoff score (tokens): 0.073\n",
      "Cutoff score (lemmas): 0.099\n"
     ]
    }
   ],
   "source": [
    "import numpy as np\n",
    "\n",
    "# Use the median to crate the cutoffs\n",
    "token_cutoff = np.median(token_scores)\n",
    "lemma_cutoff = np.median(lemma_scores)\n",
    "\n",
    "# Print the results\n",
    "print(f\"Cutoff score (tokens): {token_cutoff:.3f}\")\n",
    "print(f\"Cutoff score (lemmas): {lemma_cutoff:.3f}\")"
   ]
  },
  {
   "cell_type": "markdown",
   "metadata": {},
   "source": [
    "## Question 8. \n",
    "\n",
    "Create a summary of the article by going through every sentence in the article and adding it to an (initially) empty list if its score (based on tokens) is greater than the cutoff score you identified in question 7.  If your loop variable is named `sent`, you may find it easier to add `sent.text.strip()` to your list of sentences.  Print the summary (I would cleanly generate the summary text by `join`ing the strings in your list together with a space (`' '.join(sentence_list)`)."
   ]
  },
  {
   "cell_type": "code",
   "execution_count": 32,
   "metadata": {},
   "outputs": [
    {
     "name": "stdout",
     "output_type": "stream",
     "text": [
      "Generated Summary:\n",
      "\n",
      "Home runs are exhilarating – those lofting moments when everyone looks skyward, baseball players and fans alike, anxiously awaiting the outcome: run or out, win or loss, elation or despair. What we learned from 100,000 baseball games\n",
      "The physics tell a simple and compelling story: Warm air is less dense than cool air. As air heats up and molecules move faster, the air expands, leaving more space between molecules. As a result, a batted ball should fly farther on a warmer day than it would on a cooler day owing to less air resistance. But while scientists like Alan Nathan have shown that balls go farther in higher temperatures, no formal scientific investigation had been performed to prove that global warming is helping fuel baseball’s home run spree – until now. This means we can compare a ball coming off a bat at the same angle and velocity on a warm day and a cool day – near-perfect experimental conditions. The high-speed camera model nearly exactly replicated the effect of temperature on home runs that we estimated with the game-level data. With this observed relationship between game day temperatures and home runs in hand, we were able to use experiments from climate models to estimate how many home runs have occurred because of climate change so far. We found that more than 500 home runs since 2010 could be directly linked to reduced air densities driven by human-caused global warming. More homers in a warming future\n",
      "We can use the same approach to make estimates about home runs in the future. For example, if the world continues to pump out greenhouse gas emissions at a high rate, the temperature will continue to climb, and that could soon yield several hundred additional home runs per year. It’s not all high-fives\n",
      "More home runs might sound exciting, but that boost in homers is also a visible sign of the much larger problems facing sports and people worldwide as the planet warms.\n"
     ]
    }
   ],
   "source": [
    "# Initialize the spaCy pipeline\n",
    "nlp = spacy.load(\"en_core_web_sm\")\n",
    "\n",
    "# Parse the HTML content\n",
    "soup = BeautifulSoup(loaded_html, 'html.parser')\n",
    "\n",
    "# Try to find the article body section\n",
    "article_section = soup.find('div', {'class': 'grid-ten large-grid-nine grid-last content-body content entry-content instapaper_body inline-promos'})\n",
    "\n",
    "# Extract the article text\n",
    "article_text = article_section.get_text()\n",
    "\n",
    "def score_sentence_by_token(sentence, interesting_tokens):\n",
    "    # Process the sentence with spaCy to get a doc object\n",
    "    doc = nlp(sentence)\n",
    "\n",
    "    # Count the number of interesting tokens\n",
    "    token_count = sum(1 for token in doc if token.text.lower() in interesting_tokens)\n",
    "\n",
    "    # Calculate the score: interesting tokens divided by total tokens in sentence\n",
    "    total_words = len([token for token in doc if not token.is_space and not token.is_punct])\n",
    "\n",
    "    if total_words> 0:\n",
    "        return token_count / total_words\n",
    "    else:\n",
    "        return 0\n",
    "    \n",
    "# Split the article text into sentences\n",
    "doc = nlp(article_text)\n",
    "sentences = list(doc.sents)\n",
    "\n",
    "# Interesting tokens (from Q3)\n",
    "interesting_tokens = [\"home\", \"runs\", \"game\", \"baseball\", \"temperatures\"]\n",
    "\n",
    "# List to store scores of all sentences\n",
    "token_scores = []\n",
    "\n",
    "# Iterate over each sentence in the document and calculate token scores\n",
    "for sentence in doc.sents:\n",
    "    score = score_sentence_by_token(sentence.text, interesting_tokens)\n",
    "    token_scores.append(score)\n",
    "\n",
    "# Create an empty list to store sentences that exceed the cutoff score\n",
    "summary_sentences = []\n",
    "\n",
    "# Loop through each sentence in the article\n",
    "for sent in doc.sents:\n",
    "    # Get the polarity score for the sentence using TextBlob\n",
    "    polarity = TextBlob(sent.text).sentiment.polarity\n",
    "\n",
    "    # Check if the polarity score is greater than the cutoff score\n",
    "    if polarity > token_cutoff:\n",
    "        # Add the sentence text (stripped of extra whitespace) to the summary list\n",
    "        summary_sentences.append(sent.text.strip())\n",
    "\n",
    "# Generate the summary by joining the selected sentences with a space\n",
    "summary_text = ' '.join(summary_sentences)\n",
    "\n",
    "# Print the generated summary\n",
    "print(\"Generated Summary:\\n\")\n",
    "print(summary_text)"
   ]
  },
  {
   "cell_type": "markdown",
   "metadata": {},
   "source": [
    "## Question 9. \n",
    "\n",
    "Print the polarity score of your summary you generated with the token scores (with an appropriate label). Additionally, print the number of sentences in the summarized article."
   ]
  },
  {
   "cell_type": "code",
   "execution_count": 36,
   "metadata": {},
   "outputs": [
    {
     "name": "stdout",
     "output_type": "stream",
     "text": [
      "\n",
      "Polarity Score of the summary: 0.23362\n",
      "Number of sentences in the summary: 13\n"
     ]
    }
   ],
   "source": [
    "# Calculate the polarity of the summary\n",
    "summary_blob = TextBlob(summary_text)\n",
    "summary_polarity = summary_blob.sentiment.polarity\n",
    "\n",
    "# Print the polarity score and the number of sentences in the summary\n",
    "print(f\"\\nPolarity Score of the summary: {summary_polarity:.5f}\")\n",
    "print(f\"Number of sentences in the summary: {len(summary_sentences)}\")"
   ]
  },
  {
   "cell_type": "markdown",
   "metadata": {},
   "source": [
    "## Question 10. \n",
    "\n",
    "Create a summary of the article by going through every sentence in the article and adding it to an (initially) empty list if its score (based on lemmas) is greater than the cutoff score you identified in question 8.  If your loop variable is named `sent`, you may find it easier to add `sent.text.strip()` to your list of sentences.  Print the summary (I would cleanly generate the summary text by `join`ing the strings in your list together with a space (`' '.join(sentence_list)`)."
   ]
  },
  {
   "cell_type": "code",
   "execution_count": 39,
   "metadata": {},
   "outputs": [
    {
     "name": "stdout",
     "output_type": "stream",
     "text": [
      "Generated Summary:\n",
      "\n",
      "Home runs are exhilarating – those lofting moments when everyone looks skyward, baseball players and fans alike, anxiously awaiting the outcome: run or out, win or loss, elation or despair. What we learned from 100,000 baseball games\n",
      "The physics tell a simple and compelling story: Warm air is less dense than cool air. As air heats up and molecules move faster, the air expands, leaving more space between molecules. As a result, a batted ball should fly farther on a warmer day than it would on a cooler day owing to less air resistance. But while scientists like Alan Nathan have shown that balls go farther in higher temperatures, no formal scientific investigation had been performed to prove that global warming is helping fuel baseball’s home run spree – until now. This means we can compare a ball coming off a bat at the same angle and velocity on a warm day and a cool day – near-perfect experimental conditions. The high-speed camera model nearly exactly replicated the effect of temperature on home runs that we estimated with the game-level data. With this observed relationship between game day temperatures and home runs in hand, we were able to use experiments from climate models to estimate how many home runs have occurred because of climate change so far. We found that more than 500 home runs since 2010 could be directly linked to reduced air densities driven by human-caused global warming. More homers in a warming future\n",
      "We can use the same approach to make estimates about home runs in the future. It’s not all high-fives\n",
      "More home runs might sound exciting, but that boost in homers is also a visible sign of the much larger problems facing sports and people worldwide as the planet warms.\n"
     ]
    }
   ],
   "source": [
    "# Initialize the spaCy pipeline\n",
    "nlp = spacy.load(\"en_core_web_sm\")\n",
    "\n",
    "# Parse the HTML content\n",
    "soup = BeautifulSoup(loaded_html, 'html.parser')\n",
    "\n",
    "# Try to find the article body section\n",
    "article_section = soup.find('div', {'class': 'grid-ten large-grid-nine grid-last content-body content entry-content instapaper_body inline-promos'})\n",
    "\n",
    "# Extract the article text\n",
    "article_text = article_section.get_text()\n",
    "\n",
    "def score_sentence_by_lemma(sentence, interesting_lemmas):\n",
    "    # Process the sentence with spaCy\n",
    "    doc = nlp(sentence)\n",
    "\n",
    "    # Count the number of interesting tokens\n",
    "    lemma_count = sum(1 for token in doc if token.lemma_.lower() in interesting_lemmas)\n",
    "\n",
    "    # Calculate the score: interesting lemmas divided by total tokens in sentence\n",
    "    total_words = len([token for token in doc if not token.is_space and not token.is_punct])\n",
    "    \n",
    "    if total_words > 0: \n",
    "        return lemma_count / total_words\n",
    "    else:\n",
    "        return 0\n",
    "    \n",
    "# Load the article text\n",
    "nlp = spacy.load(\"en_core_web_sm\")\n",
    "doc = nlp(article_text)\n",
    "\n",
    "# Interesting lemmas (from Q4)\n",
    "interesting_lemmas = [\"run\", \"home\", \"game\", \"temperature\", \"baseball\"]\n",
    "\n",
    "# List to store scores of all sentences\n",
    "lemma_scores = []\n",
    "\n",
    "# Iterate over each sentence in the document and calculate token scores\n",
    "for sentence in doc.sents:\n",
    "    score = score_sentence_by_lemma(sentence.text, interesting_lemmas)\n",
    "    lemma_scores.append(score)\n",
    "\n",
    "# Create an empty list to store sentences that exceed the cutoff score\n",
    "summary_sentences = []\n",
    "\n",
    "# Loop through each sentence in the article\n",
    "for sent in doc.sents:\n",
    "    # Get the polarity score for the sentence using TextBlob\n",
    "    polarity = TextBlob(sent.text).sentiment.polarity\n",
    "\n",
    "    # Check if the polarity score is greater than the cutoff score\n",
    "    if polarity > lemma_cutoff:\n",
    "        # Add the sentence text (stripped of extra whitespace) to the summary list\n",
    "        summary_sentences.append(sent.text.strip())\n",
    "\n",
    "# Generate the summary by joining the selected sentences with a space\n",
    "summary_text1 = ' '.join(summary_sentences)\n",
    "\n",
    "# Print the generated summary\n",
    "print(\"Generated Summary:\\n\")\n",
    "print(summary_text1)"
   ]
  },
  {
   "cell_type": "markdown",
   "metadata": {},
   "source": [
    "11. Print the polarity score of your summary you generated with the lemma scores (with an appropriate label). Additionally, print the number of sentences in the summarized article."
   ]
  },
  {
   "cell_type": "code",
   "execution_count": 40,
   "metadata": {},
   "outputs": [
    {
     "name": "stdout",
     "output_type": "stream",
     "text": [
      "\n",
      "Polarity Score of the summary: 0.24293\n",
      "Number of sentences in the summary: 12\n"
     ]
    }
   ],
   "source": [
    "# Calculate the polarity of the summary\n",
    "summary_blob = TextBlob(summary_text1)\n",
    "summary_polarity = summary_blob.sentiment.polarity\n",
    "\n",
    "# Print the polarity score and the number of sentences in the summary\n",
    "print(f\"\\nPolarity Score of the summary: {summary_polarity:.5f}\")\n",
    "print(f\"Number of sentences in the summary: {len(summary_sentences)}\")"
   ]
  },
  {
   "cell_type": "markdown",
   "metadata": {},
   "source": [
    "12.  Compare your polarity scores of your summaries to the polarity scores of the initial article.  Is there a difference?  Why do you think that may or may not be?.  Answer in this Markdown cell.\n",
    "\n",
    "The initial polarity score is much lower than the polarity scores of the summaries. I think that part of this is due to the selecting of above the cutoff, and also in part due to quite a few sentences being cut out. These sentences that are cut out must have more negative or neutral connotations behind their words."
   ]
  },
  {
   "cell_type": "markdown",
   "metadata": {},
   "source": [
    "13. Based on your reading of the original article, which summary do you think is better (if there's a difference).  Why do you think this might be?\n",
    "\n",
    "I don't think there is much of a difference at all. I think this is due to the fact that there is only a 1 sentence difference in the two summaries. I was not a big fan of either summary, as they both seemed to leave out a lot of key points in this short article. "
   ]
  }
 ],
 "metadata": {
  "kernelspec": {
   "display_name": ".venv",
   "language": "python",
   "name": "python3"
  },
  "language_info": {
   "codemirror_mode": {
    "name": "ipython",
    "version": 3
   },
   "file_extension": ".py",
   "mimetype": "text/x-python",
   "name": "python",
   "nbconvert_exporter": "python",
   "pygments_lexer": "ipython3",
   "version": "3.12.5"
  }
 },
 "nbformat": 4,
 "nbformat_minor": 4
}
